{
 "cells": [
  {
   "cell_type": "code",
   "execution_count": 4,
   "id": "ddca7a44",
   "metadata": {},
   "outputs": [],
   "source": [
    "import pandas as pd\n",
    "\n",
    "data = pd.read_csv(\"C:\\\\Users\\\\khyat\\\\Downloads\\\\IRIS.csv\")\n",
    "\n"
   ]
  },
  {
   "cell_type": "code",
   "execution_count": 5,
   "id": "6344e344",
   "metadata": {},
   "outputs": [
    {
     "name": "stdout",
     "output_type": "stream",
     "text": [
      "     A     B     C\n",
      "0  1.0   6.0  11.0\n",
      "1  2.0   8.5  12.0\n",
      "2  3.0   8.0  13.0\n",
      "3  2.5   9.0  14.0\n",
      "4  5.0  10.0  15.0\n"
     ]
    }
   ],
   "source": [
    "# Assuming you have a dataset stored in a DataFrame called 'data'\n",
    "data = pd.DataFrame({'A': [1, 2, 3, None, 5],\n",
    "                     'B': [6, None, 8, 9, 10],\n",
    "                     'C': [11, 12, None, 14, 15]})\n",
    "\n",
    "# Replacing missing values with median\n",
    "data.fillna(data.median(), inplace=True)\n",
    "\n",
    "print(data)"
   ]
  },
  {
   "cell_type": "code",
   "execution_count": null,
   "id": "cbf22e4e",
   "metadata": {},
   "outputs": [],
   "source": []
  }
 ],
 "metadata": {
  "kernelspec": {
   "display_name": "Python 3 (ipykernel)",
   "language": "python",
   "name": "python3"
  },
  "language_info": {
   "codemirror_mode": {
    "name": "ipython",
    "version": 3
   },
   "file_extension": ".py",
   "mimetype": "text/x-python",
   "name": "python",
   "nbconvert_exporter": "python",
   "pygments_lexer": "ipython3",
   "version": "3.11.4"
  }
 },
 "nbformat": 4,
 "nbformat_minor": 5
}
